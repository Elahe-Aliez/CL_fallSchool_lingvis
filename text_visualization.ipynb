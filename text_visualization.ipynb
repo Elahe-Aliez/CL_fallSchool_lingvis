{
 "cells": [
  {
   "metadata": {},
   "cell_type": "markdown",
   "source": "# Netflix Movies and TV Shows Data Analysis",
   "id": "dea4034881eeb0a6"
  },
  {
   "metadata": {},
   "cell_type": "markdown",
   "source": "### Importing Libraries and Loading Data",
   "id": "731396baa73f1fb3"
  },
  {
   "metadata": {
    "ExecuteTime": {
     "end_time": "2024-09-24T12:50:27.897361Z",
     "start_time": "2024-09-24T12:50:27.891837Z"
    }
   },
   "cell_type": "code",
   "source": [
    "import pandas as pd\n",
    "import numpy as np\n",
    "import matplotlib.pyplot as plt\n",
    "import seaborn as sns\n",
    "import os\n",
    "import re\n",
    "from wordcloud import WordCloud\n",
    "from collections import Counter\n",
    "from nltk.corpus import stopwords\n",
    "from nltk.tokenize import word_tokenize\n",
    "from nltk.stem import WordNetLemmatizer\n",
    "from nltk import pos_tag\n",
    "from nltk.corpus import wordnet\n",
    "from sklearn.feature_extraction.text import TfidfVectorizer\n"
   ],
   "id": "ce7d170181b2e3ea",
   "outputs": [],
   "execution_count": 56
  },
  {
   "metadata": {
    "ExecuteTime": {
     "end_time": "2024-09-24T15:02:42.977493Z",
     "start_time": "2024-09-24T15:02:42.894266Z"
    }
   },
   "cell_type": "code",
   "source": [
    "# Load the data\n",
    "data = pd.read_csv('data/netflix_titles.csv')\n",
    "data.head()\n"
   ],
   "id": "f79c5e61c01bd0b9",
   "outputs": [
    {
     "data": {
      "text/plain": [
       "  show_id     type                  title         director  \\\n",
       "0      s1    Movie   Dick Johnson Is Dead  Kirsten Johnson   \n",
       "1      s2  TV Show          Blood & Water              NaN   \n",
       "2      s3  TV Show              Ganglands  Julien Leclercq   \n",
       "3      s4  TV Show  Jailbirds New Orleans              NaN   \n",
       "4      s5  TV Show           Kota Factory              NaN   \n",
       "\n",
       "                                                cast        country  \\\n",
       "0                                                NaN  United States   \n",
       "1  Ama Qamata, Khosi Ngema, Gail Mabalane, Thaban...   South Africa   \n",
       "2  Sami Bouajila, Tracy Gotoas, Samuel Jouy, Nabi...            NaN   \n",
       "3                                                NaN            NaN   \n",
       "4  Mayur More, Jitendra Kumar, Ranjan Raj, Alam K...          India   \n",
       "\n",
       "           date_added  release_year rating   duration  \\\n",
       "0  September 25, 2021          2020  PG-13     90 min   \n",
       "1  September 24, 2021          2021  TV-MA  2 Seasons   \n",
       "2  September 24, 2021          2021  TV-MA   1 Season   \n",
       "3  September 24, 2021          2021  TV-MA   1 Season   \n",
       "4  September 24, 2021          2021  TV-MA  2 Seasons   \n",
       "\n",
       "                                           listed_in  \\\n",
       "0                                      Documentaries   \n",
       "1    International TV Shows, TV Dramas, TV Mysteries   \n",
       "2  Crime TV Shows, International TV Shows, TV Act...   \n",
       "3                             Docuseries, Reality TV   \n",
       "4  International TV Shows, Romantic TV Shows, TV ...   \n",
       "\n",
       "                                         description  \n",
       "0  As her father nears the end of his life, filmm...  \n",
       "1  After crossing paths at a party, a Cape Town t...  \n",
       "2  To protect his family from a powerful drug lor...  \n",
       "3  Feuds, flirtations and toilet talk go down amo...  \n",
       "4  In a city of coaching centers known to train I...  "
      ],
      "text/html": [
       "<div>\n",
       "<style scoped>\n",
       "    .dataframe tbody tr th:only-of-type {\n",
       "        vertical-align: middle;\n",
       "    }\n",
       "\n",
       "    .dataframe tbody tr th {\n",
       "        vertical-align: top;\n",
       "    }\n",
       "\n",
       "    .dataframe thead th {\n",
       "        text-align: right;\n",
       "    }\n",
       "</style>\n",
       "<table border=\"1\" class=\"dataframe\">\n",
       "  <thead>\n",
       "    <tr style=\"text-align: right;\">\n",
       "      <th></th>\n",
       "      <th>show_id</th>\n",
       "      <th>type</th>\n",
       "      <th>title</th>\n",
       "      <th>director</th>\n",
       "      <th>cast</th>\n",
       "      <th>country</th>\n",
       "      <th>date_added</th>\n",
       "      <th>release_year</th>\n",
       "      <th>rating</th>\n",
       "      <th>duration</th>\n",
       "      <th>listed_in</th>\n",
       "      <th>description</th>\n",
       "    </tr>\n",
       "  </thead>\n",
       "  <tbody>\n",
       "    <tr>\n",
       "      <th>0</th>\n",
       "      <td>s1</td>\n",
       "      <td>Movie</td>\n",
       "      <td>Dick Johnson Is Dead</td>\n",
       "      <td>Kirsten Johnson</td>\n",
       "      <td>NaN</td>\n",
       "      <td>United States</td>\n",
       "      <td>September 25, 2021</td>\n",
       "      <td>2020</td>\n",
       "      <td>PG-13</td>\n",
       "      <td>90 min</td>\n",
       "      <td>Documentaries</td>\n",
       "      <td>As her father nears the end of his life, filmm...</td>\n",
       "    </tr>\n",
       "    <tr>\n",
       "      <th>1</th>\n",
       "      <td>s2</td>\n",
       "      <td>TV Show</td>\n",
       "      <td>Blood &amp; Water</td>\n",
       "      <td>NaN</td>\n",
       "      <td>Ama Qamata, Khosi Ngema, Gail Mabalane, Thaban...</td>\n",
       "      <td>South Africa</td>\n",
       "      <td>September 24, 2021</td>\n",
       "      <td>2021</td>\n",
       "      <td>TV-MA</td>\n",
       "      <td>2 Seasons</td>\n",
       "      <td>International TV Shows, TV Dramas, TV Mysteries</td>\n",
       "      <td>After crossing paths at a party, a Cape Town t...</td>\n",
       "    </tr>\n",
       "    <tr>\n",
       "      <th>2</th>\n",
       "      <td>s3</td>\n",
       "      <td>TV Show</td>\n",
       "      <td>Ganglands</td>\n",
       "      <td>Julien Leclercq</td>\n",
       "      <td>Sami Bouajila, Tracy Gotoas, Samuel Jouy, Nabi...</td>\n",
       "      <td>NaN</td>\n",
       "      <td>September 24, 2021</td>\n",
       "      <td>2021</td>\n",
       "      <td>TV-MA</td>\n",
       "      <td>1 Season</td>\n",
       "      <td>Crime TV Shows, International TV Shows, TV Act...</td>\n",
       "      <td>To protect his family from a powerful drug lor...</td>\n",
       "    </tr>\n",
       "    <tr>\n",
       "      <th>3</th>\n",
       "      <td>s4</td>\n",
       "      <td>TV Show</td>\n",
       "      <td>Jailbirds New Orleans</td>\n",
       "      <td>NaN</td>\n",
       "      <td>NaN</td>\n",
       "      <td>NaN</td>\n",
       "      <td>September 24, 2021</td>\n",
       "      <td>2021</td>\n",
       "      <td>TV-MA</td>\n",
       "      <td>1 Season</td>\n",
       "      <td>Docuseries, Reality TV</td>\n",
       "      <td>Feuds, flirtations and toilet talk go down amo...</td>\n",
       "    </tr>\n",
       "    <tr>\n",
       "      <th>4</th>\n",
       "      <td>s5</td>\n",
       "      <td>TV Show</td>\n",
       "      <td>Kota Factory</td>\n",
       "      <td>NaN</td>\n",
       "      <td>Mayur More, Jitendra Kumar, Ranjan Raj, Alam K...</td>\n",
       "      <td>India</td>\n",
       "      <td>September 24, 2021</td>\n",
       "      <td>2021</td>\n",
       "      <td>TV-MA</td>\n",
       "      <td>2 Seasons</td>\n",
       "      <td>International TV Shows, Romantic TV Shows, TV ...</td>\n",
       "      <td>In a city of coaching centers known to train I...</td>\n",
       "    </tr>\n",
       "  </tbody>\n",
       "</table>\n",
       "</div>"
      ]
     },
     "execution_count": 136,
     "metadata": {},
     "output_type": "execute_result"
    }
   ],
   "execution_count": 136
  },
  {
   "metadata": {},
   "cell_type": "markdown",
   "source": "## Data Cleaning",
   "id": "8f9f2903c2af5ba3"
  },
  {
   "metadata": {
    "ExecuteTime": {
     "end_time": "2024-09-24T15:02:43.963754Z",
     "start_time": "2024-09-24T15:02:43.952375Z"
    }
   },
   "cell_type": "code",
   "source": "data.info()",
   "id": "5269a22f6eca112a",
   "outputs": [
    {
     "name": "stdout",
     "output_type": "stream",
     "text": [
      "<class 'pandas.core.frame.DataFrame'>\n",
      "RangeIndex: 8807 entries, 0 to 8806\n",
      "Data columns (total 12 columns):\n",
      " #   Column        Non-Null Count  Dtype \n",
      "---  ------        --------------  ----- \n",
      " 0   show_id       8807 non-null   object\n",
      " 1   type          8807 non-null   object\n",
      " 2   title         8807 non-null   object\n",
      " 3   director      6173 non-null   object\n",
      " 4   cast          7982 non-null   object\n",
      " 5   country       7976 non-null   object\n",
      " 6   date_added    8797 non-null   object\n",
      " 7   release_year  8807 non-null   int64 \n",
      " 8   rating        8803 non-null   object\n",
      " 9   duration      8804 non-null   object\n",
      " 10  listed_in     8807 non-null   object\n",
      " 11  description   8807 non-null   object\n",
      "dtypes: int64(1), object(11)\n",
      "memory usage: 825.8+ KB\n"
     ]
    }
   ],
   "execution_count": 137
  },
  {
   "metadata": {
    "ExecuteTime": {
     "end_time": "2024-09-24T15:02:44.430657Z",
     "start_time": "2024-09-24T15:02:44.419165Z"
    }
   },
   "cell_type": "code",
   "source": "data.isnull().sum()",
   "id": "2daaa8548a3b4ca6",
   "outputs": [
    {
     "data": {
      "text/plain": [
       "show_id            0\n",
       "type               0\n",
       "title              0\n",
       "director        2634\n",
       "cast             825\n",
       "country          831\n",
       "date_added        10\n",
       "release_year       0\n",
       "rating             4\n",
       "duration           3\n",
       "listed_in          0\n",
       "description        0\n",
       "dtype: int64"
      ]
     },
     "execution_count": 138,
     "metadata": {},
     "output_type": "execute_result"
    }
   ],
   "execution_count": 138
  },
  {
   "metadata": {
    "ExecuteTime": {
     "end_time": "2024-09-24T15:02:44.910408Z",
     "start_time": "2024-09-24T15:02:44.897211Z"
    }
   },
   "cell_type": "code",
   "source": "data.dropna(inplace=True)",
   "id": "f05c49aa4d882493",
   "outputs": [],
   "execution_count": 139
  },
  {
   "metadata": {
    "ExecuteTime": {
     "end_time": "2024-09-24T15:02:45.579830Z",
     "start_time": "2024-09-24T15:02:45.566527Z"
    }
   },
   "cell_type": "code",
   "source": "data.isnull().sum()",
   "id": "968661adb94cfdd9",
   "outputs": [
    {
     "data": {
      "text/plain": [
       "show_id         0\n",
       "type            0\n",
       "title           0\n",
       "director        0\n",
       "cast            0\n",
       "country         0\n",
       "date_added      0\n",
       "release_year    0\n",
       "rating          0\n",
       "duration        0\n",
       "listed_in       0\n",
       "description     0\n",
       "dtype: int64"
      ]
     },
     "execution_count": 140,
     "metadata": {},
     "output_type": "execute_result"
    }
   ],
   "execution_count": 140
  },
  {
   "metadata": {
    "ExecuteTime": {
     "end_time": "2024-09-24T15:02:46.485306Z",
     "start_time": "2024-09-24T15:02:46.476007Z"
    }
   },
   "cell_type": "code",
   "source": "data['listed_in'].value_counts()",
   "id": "a704a26d90b04718",
   "outputs": [
    {
     "data": {
      "text/plain": [
       "listed_in\n",
       "Dramas, International Movies                        336\n",
       "Stand-Up Comedy                                     286\n",
       "Comedies, Dramas, International Movies              257\n",
       "Dramas, Independent Movies, International Movies    243\n",
       "Children & Family Movies, Comedies                  179\n",
       "                                                   ... \n",
       "Anime Series, Crime TV Shows, TV Horror               1\n",
       "Romantic TV Shows, TV Comedies, TV Dramas             1\n",
       "Anime Series, Romantic TV Shows, Teen TV Shows        1\n",
       "TV Dramas                                             1\n",
       "Documentaries, Dramas                                 1\n",
       "Name: count, Length: 335, dtype: int64"
      ]
     },
     "execution_count": 141,
     "metadata": {},
     "output_type": "execute_result"
    }
   ],
   "execution_count": 141
  },
  {
   "metadata": {
    "ExecuteTime": {
     "end_time": "2024-09-24T15:02:47.277071Z",
     "start_time": "2024-09-24T15:02:47.253494Z"
    }
   },
   "cell_type": "code",
   "source": [
    "# listed_in column is a comma separated string, split the string and get all the genres\n",
    "# Split the 'listed_in' column on commas to create a list of genres\n",
    "data['listed_in'] = data['listed_in'].apply(lambda x: x.split(', '))\n",
    "\n",
    "# Explode the list into separate rows\n",
    "data_exploded = data.explode('listed_in')"
   ],
   "id": "fc85ac6cebe08520",
   "outputs": [],
   "execution_count": 142
  },
  {
   "metadata": {
    "ExecuteTime": {
     "end_time": "2024-09-24T15:02:50.416400Z",
     "start_time": "2024-09-24T15:02:50.403583Z"
    }
   },
   "cell_type": "code",
   "source": "data_exploded",
   "id": "48587ed2a427d499",
   "outputs": [
    {
     "data": {
      "text/plain": [
       "     show_id     type                          title         director  \\\n",
       "7         s8    Movie                        Sankofa     Haile Gerima   \n",
       "7         s8    Movie                        Sankofa     Haile Gerima   \n",
       "7         s8    Movie                        Sankofa     Haile Gerima   \n",
       "8         s9  TV Show  The Great British Baking Show  Andy Devonshire   \n",
       "8         s9  TV Show  The Great British Baking Show  Andy Devonshire   \n",
       "...      ...      ...                            ...              ...   \n",
       "8805   s8806    Movie                           Zoom     Peter Hewitt   \n",
       "8805   s8806    Movie                           Zoom     Peter Hewitt   \n",
       "8806   s8807    Movie                         Zubaan      Mozez Singh   \n",
       "8806   s8807    Movie                         Zubaan      Mozez Singh   \n",
       "8806   s8807    Movie                         Zubaan      Mozez Singh   \n",
       "\n",
       "                                                   cast  \\\n",
       "7     Kofi Ghanaba, Oyafunmike Ogunlano, Alexandra D...   \n",
       "7     Kofi Ghanaba, Oyafunmike Ogunlano, Alexandra D...   \n",
       "7     Kofi Ghanaba, Oyafunmike Ogunlano, Alexandra D...   \n",
       "8     Mel Giedroyc, Sue Perkins, Mary Berry, Paul Ho...   \n",
       "8     Mel Giedroyc, Sue Perkins, Mary Berry, Paul Ho...   \n",
       "...                                                 ...   \n",
       "8805  Tim Allen, Courteney Cox, Chevy Chase, Kate Ma...   \n",
       "8805  Tim Allen, Courteney Cox, Chevy Chase, Kate Ma...   \n",
       "8806  Vicky Kaushal, Sarah-Jane Dias, Raaghav Chanan...   \n",
       "8806  Vicky Kaushal, Sarah-Jane Dias, Raaghav Chanan...   \n",
       "8806  Vicky Kaushal, Sarah-Jane Dias, Raaghav Chanan...   \n",
       "\n",
       "                                                country          date_added  \\\n",
       "7     United States, Ghana, Burkina Faso, United Kin...  September 24, 2021   \n",
       "7     United States, Ghana, Burkina Faso, United Kin...  September 24, 2021   \n",
       "7     United States, Ghana, Burkina Faso, United Kin...  September 24, 2021   \n",
       "8                                        United Kingdom  September 24, 2021   \n",
       "8                                        United Kingdom  September 24, 2021   \n",
       "...                                                 ...                 ...   \n",
       "8805                                      United States    January 11, 2020   \n",
       "8805                                      United States    January 11, 2020   \n",
       "8806                                              India       March 2, 2019   \n",
       "8806                                              India       March 2, 2019   \n",
       "8806                                              India       March 2, 2019   \n",
       "\n",
       "      release_year rating   duration                 listed_in  \\\n",
       "7             1993  TV-MA    125 min                    Dramas   \n",
       "7             1993  TV-MA    125 min        Independent Movies   \n",
       "7             1993  TV-MA    125 min      International Movies   \n",
       "8             2021  TV-14  9 Seasons          British TV Shows   \n",
       "8             2021  TV-14  9 Seasons                Reality TV   \n",
       "...            ...    ...        ...                       ...   \n",
       "8805          2006     PG     88 min  Children & Family Movies   \n",
       "8805          2006     PG     88 min                  Comedies   \n",
       "8806          2015  TV-14    111 min                    Dramas   \n",
       "8806          2015  TV-14    111 min      International Movies   \n",
       "8806          2015  TV-14    111 min          Music & Musicals   \n",
       "\n",
       "                                            description  \n",
       "7     On a photo shoot in Ghana, an American model s...  \n",
       "7     On a photo shoot in Ghana, an American model s...  \n",
       "7     On a photo shoot in Ghana, an American model s...  \n",
       "8     A talented batch of amateur bakers face off in...  \n",
       "8     A talented batch of amateur bakers face off in...  \n",
       "...                                                 ...  \n",
       "8805  Dragged from civilian life, a former superhero...  \n",
       "8805  Dragged from civilian life, a former superhero...  \n",
       "8806  A scrappy but poor boy worms his way into a ty...  \n",
       "8806  A scrappy but poor boy worms his way into a ty...  \n",
       "8806  A scrappy but poor boy worms his way into a ty...  \n",
       "\n",
       "[11858 rows x 12 columns]"
      ],
      "text/html": [
       "<div>\n",
       "<style scoped>\n",
       "    .dataframe tbody tr th:only-of-type {\n",
       "        vertical-align: middle;\n",
       "    }\n",
       "\n",
       "    .dataframe tbody tr th {\n",
       "        vertical-align: top;\n",
       "    }\n",
       "\n",
       "    .dataframe thead th {\n",
       "        text-align: right;\n",
       "    }\n",
       "</style>\n",
       "<table border=\"1\" class=\"dataframe\">\n",
       "  <thead>\n",
       "    <tr style=\"text-align: right;\">\n",
       "      <th></th>\n",
       "      <th>show_id</th>\n",
       "      <th>type</th>\n",
       "      <th>title</th>\n",
       "      <th>director</th>\n",
       "      <th>cast</th>\n",
       "      <th>country</th>\n",
       "      <th>date_added</th>\n",
       "      <th>release_year</th>\n",
       "      <th>rating</th>\n",
       "      <th>duration</th>\n",
       "      <th>listed_in</th>\n",
       "      <th>description</th>\n",
       "    </tr>\n",
       "  </thead>\n",
       "  <tbody>\n",
       "    <tr>\n",
       "      <th>7</th>\n",
       "      <td>s8</td>\n",
       "      <td>Movie</td>\n",
       "      <td>Sankofa</td>\n",
       "      <td>Haile Gerima</td>\n",
       "      <td>Kofi Ghanaba, Oyafunmike Ogunlano, Alexandra D...</td>\n",
       "      <td>United States, Ghana, Burkina Faso, United Kin...</td>\n",
       "      <td>September 24, 2021</td>\n",
       "      <td>1993</td>\n",
       "      <td>TV-MA</td>\n",
       "      <td>125 min</td>\n",
       "      <td>Dramas</td>\n",
       "      <td>On a photo shoot in Ghana, an American model s...</td>\n",
       "    </tr>\n",
       "    <tr>\n",
       "      <th>7</th>\n",
       "      <td>s8</td>\n",
       "      <td>Movie</td>\n",
       "      <td>Sankofa</td>\n",
       "      <td>Haile Gerima</td>\n",
       "      <td>Kofi Ghanaba, Oyafunmike Ogunlano, Alexandra D...</td>\n",
       "      <td>United States, Ghana, Burkina Faso, United Kin...</td>\n",
       "      <td>September 24, 2021</td>\n",
       "      <td>1993</td>\n",
       "      <td>TV-MA</td>\n",
       "      <td>125 min</td>\n",
       "      <td>Independent Movies</td>\n",
       "      <td>On a photo shoot in Ghana, an American model s...</td>\n",
       "    </tr>\n",
       "    <tr>\n",
       "      <th>7</th>\n",
       "      <td>s8</td>\n",
       "      <td>Movie</td>\n",
       "      <td>Sankofa</td>\n",
       "      <td>Haile Gerima</td>\n",
       "      <td>Kofi Ghanaba, Oyafunmike Ogunlano, Alexandra D...</td>\n",
       "      <td>United States, Ghana, Burkina Faso, United Kin...</td>\n",
       "      <td>September 24, 2021</td>\n",
       "      <td>1993</td>\n",
       "      <td>TV-MA</td>\n",
       "      <td>125 min</td>\n",
       "      <td>International Movies</td>\n",
       "      <td>On a photo shoot in Ghana, an American model s...</td>\n",
       "    </tr>\n",
       "    <tr>\n",
       "      <th>8</th>\n",
       "      <td>s9</td>\n",
       "      <td>TV Show</td>\n",
       "      <td>The Great British Baking Show</td>\n",
       "      <td>Andy Devonshire</td>\n",
       "      <td>Mel Giedroyc, Sue Perkins, Mary Berry, Paul Ho...</td>\n",
       "      <td>United Kingdom</td>\n",
       "      <td>September 24, 2021</td>\n",
       "      <td>2021</td>\n",
       "      <td>TV-14</td>\n",
       "      <td>9 Seasons</td>\n",
       "      <td>British TV Shows</td>\n",
       "      <td>A talented batch of amateur bakers face off in...</td>\n",
       "    </tr>\n",
       "    <tr>\n",
       "      <th>8</th>\n",
       "      <td>s9</td>\n",
       "      <td>TV Show</td>\n",
       "      <td>The Great British Baking Show</td>\n",
       "      <td>Andy Devonshire</td>\n",
       "      <td>Mel Giedroyc, Sue Perkins, Mary Berry, Paul Ho...</td>\n",
       "      <td>United Kingdom</td>\n",
       "      <td>September 24, 2021</td>\n",
       "      <td>2021</td>\n",
       "      <td>TV-14</td>\n",
       "      <td>9 Seasons</td>\n",
       "      <td>Reality TV</td>\n",
       "      <td>A talented batch of amateur bakers face off in...</td>\n",
       "    </tr>\n",
       "    <tr>\n",
       "      <th>...</th>\n",
       "      <td>...</td>\n",
       "      <td>...</td>\n",
       "      <td>...</td>\n",
       "      <td>...</td>\n",
       "      <td>...</td>\n",
       "      <td>...</td>\n",
       "      <td>...</td>\n",
       "      <td>...</td>\n",
       "      <td>...</td>\n",
       "      <td>...</td>\n",
       "      <td>...</td>\n",
       "      <td>...</td>\n",
       "    </tr>\n",
       "    <tr>\n",
       "      <th>8805</th>\n",
       "      <td>s8806</td>\n",
       "      <td>Movie</td>\n",
       "      <td>Zoom</td>\n",
       "      <td>Peter Hewitt</td>\n",
       "      <td>Tim Allen, Courteney Cox, Chevy Chase, Kate Ma...</td>\n",
       "      <td>United States</td>\n",
       "      <td>January 11, 2020</td>\n",
       "      <td>2006</td>\n",
       "      <td>PG</td>\n",
       "      <td>88 min</td>\n",
       "      <td>Children &amp; Family Movies</td>\n",
       "      <td>Dragged from civilian life, a former superhero...</td>\n",
       "    </tr>\n",
       "    <tr>\n",
       "      <th>8805</th>\n",
       "      <td>s8806</td>\n",
       "      <td>Movie</td>\n",
       "      <td>Zoom</td>\n",
       "      <td>Peter Hewitt</td>\n",
       "      <td>Tim Allen, Courteney Cox, Chevy Chase, Kate Ma...</td>\n",
       "      <td>United States</td>\n",
       "      <td>January 11, 2020</td>\n",
       "      <td>2006</td>\n",
       "      <td>PG</td>\n",
       "      <td>88 min</td>\n",
       "      <td>Comedies</td>\n",
       "      <td>Dragged from civilian life, a former superhero...</td>\n",
       "    </tr>\n",
       "    <tr>\n",
       "      <th>8806</th>\n",
       "      <td>s8807</td>\n",
       "      <td>Movie</td>\n",
       "      <td>Zubaan</td>\n",
       "      <td>Mozez Singh</td>\n",
       "      <td>Vicky Kaushal, Sarah-Jane Dias, Raaghav Chanan...</td>\n",
       "      <td>India</td>\n",
       "      <td>March 2, 2019</td>\n",
       "      <td>2015</td>\n",
       "      <td>TV-14</td>\n",
       "      <td>111 min</td>\n",
       "      <td>Dramas</td>\n",
       "      <td>A scrappy but poor boy worms his way into a ty...</td>\n",
       "    </tr>\n",
       "    <tr>\n",
       "      <th>8806</th>\n",
       "      <td>s8807</td>\n",
       "      <td>Movie</td>\n",
       "      <td>Zubaan</td>\n",
       "      <td>Mozez Singh</td>\n",
       "      <td>Vicky Kaushal, Sarah-Jane Dias, Raaghav Chanan...</td>\n",
       "      <td>India</td>\n",
       "      <td>March 2, 2019</td>\n",
       "      <td>2015</td>\n",
       "      <td>TV-14</td>\n",
       "      <td>111 min</td>\n",
       "      <td>International Movies</td>\n",
       "      <td>A scrappy but poor boy worms his way into a ty...</td>\n",
       "    </tr>\n",
       "    <tr>\n",
       "      <th>8806</th>\n",
       "      <td>s8807</td>\n",
       "      <td>Movie</td>\n",
       "      <td>Zubaan</td>\n",
       "      <td>Mozez Singh</td>\n",
       "      <td>Vicky Kaushal, Sarah-Jane Dias, Raaghav Chanan...</td>\n",
       "      <td>India</td>\n",
       "      <td>March 2, 2019</td>\n",
       "      <td>2015</td>\n",
       "      <td>TV-14</td>\n",
       "      <td>111 min</td>\n",
       "      <td>Music &amp; Musicals</td>\n",
       "      <td>A scrappy but poor boy worms his way into a ty...</td>\n",
       "    </tr>\n",
       "  </tbody>\n",
       "</table>\n",
       "<p>11858 rows × 12 columns</p>\n",
       "</div>"
      ]
     },
     "execution_count": 143,
     "metadata": {},
     "output_type": "execute_result"
    }
   ],
   "execution_count": 143
  },
  {
   "metadata": {
    "ExecuteTime": {
     "end_time": "2024-09-24T15:02:51.384097Z",
     "start_time": "2024-09-24T15:02:51.376300Z"
    }
   },
   "cell_type": "code",
   "source": "data['country'].value_counts()",
   "id": "cd0f99b8bc6f89cd",
   "outputs": [
    {
     "data": {
      "text/plain": [
       "country\n",
       "United States                                    1846\n",
       "India                                             875\n",
       "United Kingdom                                    183\n",
       "Canada                                            107\n",
       "Spain                                              91\n",
       "                                                 ... \n",
       "United States, Sweden, Norway                       1\n",
       "United States, Germany, United Kingdom, Italy       1\n",
       "United States, New Zealand, United Kingdom          1\n",
       "Finland, United States                              1\n",
       "Spain, France, Uruguay                              1\n",
       "Name: count, Length: 604, dtype: int64"
      ]
     },
     "execution_count": 144,
     "metadata": {},
     "output_type": "execute_result"
    }
   ],
   "execution_count": 144
  },
  {
   "metadata": {
    "ExecuteTime": {
     "end_time": "2024-09-24T15:02:52.583406Z",
     "start_time": "2024-09-24T15:02:52.453603Z"
    }
   },
   "cell_type": "code",
   "source": [
    "# confusion Matrix for title and the listed_in\n",
    "confusion_matrix = data.groupby(['title', 'listed_in']).size().unstack(fill_value=0)\n"
   ],
   "id": "352c592c3ddcceb0",
   "outputs": [
    {
     "ename": "TypeError",
     "evalue": "unhashable type: 'list'",
     "output_type": "error",
     "traceback": [
      "\u001B[0;31m---------------------------------------------------------------------------\u001B[0m",
      "\u001B[0;31mTypeError\u001B[0m                                 Traceback (most recent call last)",
      "Cell \u001B[0;32mIn[145], line 2\u001B[0m\n\u001B[1;32m      1\u001B[0m \u001B[38;5;66;03m# confusion Matrix for title and the listed_in\u001B[39;00m\n\u001B[0;32m----> 2\u001B[0m confusion_matrix \u001B[38;5;241m=\u001B[39m data\u001B[38;5;241m.\u001B[39mgroupby([\u001B[38;5;124m'\u001B[39m\u001B[38;5;124mtitle\u001B[39m\u001B[38;5;124m'\u001B[39m, \u001B[38;5;124m'\u001B[39m\u001B[38;5;124mlisted_in\u001B[39m\u001B[38;5;124m'\u001B[39m])\u001B[38;5;241m.\u001B[39msize()\u001B[38;5;241m.\u001B[39munstack(fill_value\u001B[38;5;241m=\u001B[39m\u001B[38;5;241m0\u001B[39m)\n",
      "File \u001B[0;32m~/anaconda3/lib/python3.11/site-packages/pandas/core/groupby/groupby.py:2960\u001B[0m, in \u001B[0;36mGroupBy.size\u001B[0;34m(self)\u001B[0m\n\u001B[1;32m   2902\u001B[0m \u001B[38;5;129m@final\u001B[39m\n\u001B[1;32m   2903\u001B[0m \u001B[38;5;129m@Substitution\u001B[39m(name\u001B[38;5;241m=\u001B[39m\u001B[38;5;124m\"\u001B[39m\u001B[38;5;124mgroupby\u001B[39m\u001B[38;5;124m\"\u001B[39m)\n\u001B[1;32m   2904\u001B[0m \u001B[38;5;129m@Substitution\u001B[39m(see_also\u001B[38;5;241m=\u001B[39m_common_see_also)\n\u001B[1;32m   2905\u001B[0m \u001B[38;5;28;01mdef\u001B[39;00m \u001B[38;5;21msize\u001B[39m(\u001B[38;5;28mself\u001B[39m) \u001B[38;5;241m-\u001B[39m\u001B[38;5;241m>\u001B[39m DataFrame \u001B[38;5;241m|\u001B[39m Series:\n\u001B[1;32m   2906\u001B[0m \u001B[38;5;250m    \u001B[39m\u001B[38;5;124;03m\"\"\"\u001B[39;00m\n\u001B[1;32m   2907\u001B[0m \u001B[38;5;124;03m    Compute group sizes.\u001B[39;00m\n\u001B[1;32m   2908\u001B[0m \n\u001B[0;32m   (...)\u001B[0m\n\u001B[1;32m   2958\u001B[0m \u001B[38;5;124;03m    Freq: MS, dtype: int64\u001B[39;00m\n\u001B[1;32m   2959\u001B[0m \u001B[38;5;124;03m    \"\"\"\u001B[39;00m\n\u001B[0;32m-> 2960\u001B[0m     result \u001B[38;5;241m=\u001B[39m \u001B[38;5;28mself\u001B[39m\u001B[38;5;241m.\u001B[39mgrouper\u001B[38;5;241m.\u001B[39msize()\n\u001B[1;32m   2961\u001B[0m     dtype_backend: \u001B[38;5;28;01mNone\u001B[39;00m \u001B[38;5;241m|\u001B[39m Literal[\u001B[38;5;124m\"\u001B[39m\u001B[38;5;124mpyarrow\u001B[39m\u001B[38;5;124m\"\u001B[39m, \u001B[38;5;124m\"\u001B[39m\u001B[38;5;124mnumpy_nullable\u001B[39m\u001B[38;5;124m\"\u001B[39m] \u001B[38;5;241m=\u001B[39m \u001B[38;5;28;01mNone\u001B[39;00m\n\u001B[1;32m   2962\u001B[0m     \u001B[38;5;28;01mif\u001B[39;00m \u001B[38;5;28misinstance\u001B[39m(\u001B[38;5;28mself\u001B[39m\u001B[38;5;241m.\u001B[39mobj, Series):\n",
      "File \u001B[0;32m~/anaconda3/lib/python3.11/site-packages/pandas/core/groupby/ops.py:690\u001B[0m, in \u001B[0;36mBaseGrouper.size\u001B[0;34m(self)\u001B[0m\n\u001B[1;32m    685\u001B[0m \u001B[38;5;129m@final\u001B[39m\n\u001B[1;32m    686\u001B[0m \u001B[38;5;28;01mdef\u001B[39;00m \u001B[38;5;21msize\u001B[39m(\u001B[38;5;28mself\u001B[39m) \u001B[38;5;241m-\u001B[39m\u001B[38;5;241m>\u001B[39m Series:\n\u001B[1;32m    687\u001B[0m \u001B[38;5;250m    \u001B[39m\u001B[38;5;124;03m\"\"\"\u001B[39;00m\n\u001B[1;32m    688\u001B[0m \u001B[38;5;124;03m    Compute group sizes.\u001B[39;00m\n\u001B[1;32m    689\u001B[0m \u001B[38;5;124;03m    \"\"\"\u001B[39;00m\n\u001B[0;32m--> 690\u001B[0m     ids, _, ngroups \u001B[38;5;241m=\u001B[39m \u001B[38;5;28mself\u001B[39m\u001B[38;5;241m.\u001B[39mgroup_info\n\u001B[1;32m    691\u001B[0m     out: np\u001B[38;5;241m.\u001B[39mndarray \u001B[38;5;241m|\u001B[39m \u001B[38;5;28mlist\u001B[39m\n\u001B[1;32m    692\u001B[0m     \u001B[38;5;28;01mif\u001B[39;00m ngroups:\n",
      "File \u001B[0;32mproperties.pyx:36\u001B[0m, in \u001B[0;36mpandas._libs.properties.CachedProperty.__get__\u001B[0;34m()\u001B[0m\n",
      "File \u001B[0;32m~/anaconda3/lib/python3.11/site-packages/pandas/core/groupby/ops.py:730\u001B[0m, in \u001B[0;36mBaseGrouper.group_info\u001B[0;34m(self)\u001B[0m\n\u001B[1;32m    728\u001B[0m \u001B[38;5;129m@cache_readonly\u001B[39m\n\u001B[1;32m    729\u001B[0m \u001B[38;5;28;01mdef\u001B[39;00m \u001B[38;5;21mgroup_info\u001B[39m(\u001B[38;5;28mself\u001B[39m) \u001B[38;5;241m-\u001B[39m\u001B[38;5;241m>\u001B[39m \u001B[38;5;28mtuple\u001B[39m[npt\u001B[38;5;241m.\u001B[39mNDArray[np\u001B[38;5;241m.\u001B[39mintp], npt\u001B[38;5;241m.\u001B[39mNDArray[np\u001B[38;5;241m.\u001B[39mintp], \u001B[38;5;28mint\u001B[39m]:\n\u001B[0;32m--> 730\u001B[0m     comp_ids, obs_group_ids \u001B[38;5;241m=\u001B[39m \u001B[38;5;28mself\u001B[39m\u001B[38;5;241m.\u001B[39m_get_compressed_codes()\n\u001B[1;32m    732\u001B[0m     ngroups \u001B[38;5;241m=\u001B[39m \u001B[38;5;28mlen\u001B[39m(obs_group_ids)\n\u001B[1;32m    733\u001B[0m     comp_ids \u001B[38;5;241m=\u001B[39m ensure_platform_int(comp_ids)\n",
      "File \u001B[0;32m~/anaconda3/lib/python3.11/site-packages/pandas/core/groupby/ops.py:749\u001B[0m, in \u001B[0;36mBaseGrouper._get_compressed_codes\u001B[0;34m(self)\u001B[0m\n\u001B[1;32m    743\u001B[0m \u001B[38;5;129m@final\u001B[39m\n\u001B[1;32m    744\u001B[0m \u001B[38;5;28;01mdef\u001B[39;00m \u001B[38;5;21m_get_compressed_codes\u001B[39m(\n\u001B[1;32m    745\u001B[0m     \u001B[38;5;28mself\u001B[39m,\n\u001B[1;32m    746\u001B[0m ) \u001B[38;5;241m-\u001B[39m\u001B[38;5;241m>\u001B[39m \u001B[38;5;28mtuple\u001B[39m[npt\u001B[38;5;241m.\u001B[39mNDArray[np\u001B[38;5;241m.\u001B[39msignedinteger], npt\u001B[38;5;241m.\u001B[39mNDArray[np\u001B[38;5;241m.\u001B[39mintp]]:\n\u001B[1;32m    747\u001B[0m     \u001B[38;5;66;03m# The first returned ndarray may have any signed integer dtype\u001B[39;00m\n\u001B[1;32m    748\u001B[0m     \u001B[38;5;28;01mif\u001B[39;00m \u001B[38;5;28mlen\u001B[39m(\u001B[38;5;28mself\u001B[39m\u001B[38;5;241m.\u001B[39mgroupings) \u001B[38;5;241m>\u001B[39m \u001B[38;5;241m1\u001B[39m:\n\u001B[0;32m--> 749\u001B[0m         group_index \u001B[38;5;241m=\u001B[39m get_group_index(\u001B[38;5;28mself\u001B[39m\u001B[38;5;241m.\u001B[39mcodes, \u001B[38;5;28mself\u001B[39m\u001B[38;5;241m.\u001B[39mshape, sort\u001B[38;5;241m=\u001B[39m\u001B[38;5;28;01mTrue\u001B[39;00m, xnull\u001B[38;5;241m=\u001B[39m\u001B[38;5;28;01mTrue\u001B[39;00m)\n\u001B[1;32m    750\u001B[0m         \u001B[38;5;28;01mreturn\u001B[39;00m compress_group_index(group_index, sort\u001B[38;5;241m=\u001B[39m\u001B[38;5;28mself\u001B[39m\u001B[38;5;241m.\u001B[39m_sort)\n\u001B[1;32m    751\u001B[0m         \u001B[38;5;66;03m# FIXME: compress_group_index's second return value is int64, not intp\u001B[39;00m\n",
      "File \u001B[0;32m~/anaconda3/lib/python3.11/site-packages/pandas/core/groupby/ops.py:675\u001B[0m, in \u001B[0;36mBaseGrouper.codes\u001B[0;34m(self)\u001B[0m\n\u001B[1;32m    672\u001B[0m \u001B[38;5;129m@final\u001B[39m\n\u001B[1;32m    673\u001B[0m \u001B[38;5;129m@property\u001B[39m\n\u001B[1;32m    674\u001B[0m \u001B[38;5;28;01mdef\u001B[39;00m \u001B[38;5;21mcodes\u001B[39m(\u001B[38;5;28mself\u001B[39m) \u001B[38;5;241m-\u001B[39m\u001B[38;5;241m>\u001B[39m \u001B[38;5;28mlist\u001B[39m[npt\u001B[38;5;241m.\u001B[39mNDArray[np\u001B[38;5;241m.\u001B[39msignedinteger]]:\n\u001B[0;32m--> 675\u001B[0m     \u001B[38;5;28;01mreturn\u001B[39;00m [ping\u001B[38;5;241m.\u001B[39mcodes \u001B[38;5;28;01mfor\u001B[39;00m ping \u001B[38;5;129;01min\u001B[39;00m \u001B[38;5;28mself\u001B[39m\u001B[38;5;241m.\u001B[39mgroupings]\n",
      "File \u001B[0;32m~/anaconda3/lib/python3.11/site-packages/pandas/core/groupby/ops.py:675\u001B[0m, in \u001B[0;36m<listcomp>\u001B[0;34m(.0)\u001B[0m\n\u001B[1;32m    672\u001B[0m \u001B[38;5;129m@final\u001B[39m\n\u001B[1;32m    673\u001B[0m \u001B[38;5;129m@property\u001B[39m\n\u001B[1;32m    674\u001B[0m \u001B[38;5;28;01mdef\u001B[39;00m \u001B[38;5;21mcodes\u001B[39m(\u001B[38;5;28mself\u001B[39m) \u001B[38;5;241m-\u001B[39m\u001B[38;5;241m>\u001B[39m \u001B[38;5;28mlist\u001B[39m[npt\u001B[38;5;241m.\u001B[39mNDArray[np\u001B[38;5;241m.\u001B[39msignedinteger]]:\n\u001B[0;32m--> 675\u001B[0m     \u001B[38;5;28;01mreturn\u001B[39;00m [ping\u001B[38;5;241m.\u001B[39mcodes \u001B[38;5;28;01mfor\u001B[39;00m ping \u001B[38;5;129;01min\u001B[39;00m \u001B[38;5;28mself\u001B[39m\u001B[38;5;241m.\u001B[39mgroupings]\n",
      "File \u001B[0;32m~/anaconda3/lib/python3.11/site-packages/pandas/core/groupby/grouper.py:691\u001B[0m, in \u001B[0;36mGrouping.codes\u001B[0;34m(self)\u001B[0m\n\u001B[1;32m    689\u001B[0m \u001B[38;5;129m@property\u001B[39m\n\u001B[1;32m    690\u001B[0m \u001B[38;5;28;01mdef\u001B[39;00m \u001B[38;5;21mcodes\u001B[39m(\u001B[38;5;28mself\u001B[39m) \u001B[38;5;241m-\u001B[39m\u001B[38;5;241m>\u001B[39m npt\u001B[38;5;241m.\u001B[39mNDArray[np\u001B[38;5;241m.\u001B[39msignedinteger]:\n\u001B[0;32m--> 691\u001B[0m     \u001B[38;5;28;01mreturn\u001B[39;00m \u001B[38;5;28mself\u001B[39m\u001B[38;5;241m.\u001B[39m_codes_and_uniques[\u001B[38;5;241m0\u001B[39m]\n",
      "File \u001B[0;32mproperties.pyx:36\u001B[0m, in \u001B[0;36mpandas._libs.properties.CachedProperty.__get__\u001B[0;34m()\u001B[0m\n",
      "File \u001B[0;32m~/anaconda3/lib/python3.11/site-packages/pandas/core/groupby/grouper.py:801\u001B[0m, in \u001B[0;36mGrouping._codes_and_uniques\u001B[0;34m(self)\u001B[0m\n\u001B[1;32m    796\u001B[0m     uniques \u001B[38;5;241m=\u001B[39m \u001B[38;5;28mself\u001B[39m\u001B[38;5;241m.\u001B[39m_uniques\n\u001B[1;32m    797\u001B[0m \u001B[38;5;28;01melse\u001B[39;00m:\n\u001B[1;32m    798\u001B[0m     \u001B[38;5;66;03m# GH35667, replace dropna=False with use_na_sentinel=False\u001B[39;00m\n\u001B[1;32m    799\u001B[0m     \u001B[38;5;66;03m# error: Incompatible types in assignment (expression has type \"Union[\u001B[39;00m\n\u001B[1;32m    800\u001B[0m     \u001B[38;5;66;03m# ndarray[Any, Any], Index]\", variable has type \"Categorical\")\u001B[39;00m\n\u001B[0;32m--> 801\u001B[0m     codes, uniques \u001B[38;5;241m=\u001B[39m algorithms\u001B[38;5;241m.\u001B[39mfactorize(  \u001B[38;5;66;03m# type: ignore[assignment]\u001B[39;00m\n\u001B[1;32m    802\u001B[0m         \u001B[38;5;28mself\u001B[39m\u001B[38;5;241m.\u001B[39mgrouping_vector, sort\u001B[38;5;241m=\u001B[39m\u001B[38;5;28mself\u001B[39m\u001B[38;5;241m.\u001B[39m_sort, use_na_sentinel\u001B[38;5;241m=\u001B[39m\u001B[38;5;28mself\u001B[39m\u001B[38;5;241m.\u001B[39m_dropna\n\u001B[1;32m    803\u001B[0m     )\n\u001B[1;32m    804\u001B[0m \u001B[38;5;28;01mreturn\u001B[39;00m codes, uniques\n",
      "File \u001B[0;32m~/anaconda3/lib/python3.11/site-packages/pandas/core/algorithms.py:795\u001B[0m, in \u001B[0;36mfactorize\u001B[0;34m(values, sort, use_na_sentinel, size_hint)\u001B[0m\n\u001B[1;32m    792\u001B[0m             \u001B[38;5;66;03m# Don't modify (potentially user-provided) array\u001B[39;00m\n\u001B[1;32m    793\u001B[0m             values \u001B[38;5;241m=\u001B[39m np\u001B[38;5;241m.\u001B[39mwhere(null_mask, na_value, values)\n\u001B[0;32m--> 795\u001B[0m     codes, uniques \u001B[38;5;241m=\u001B[39m factorize_array(\n\u001B[1;32m    796\u001B[0m         values,\n\u001B[1;32m    797\u001B[0m         use_na_sentinel\u001B[38;5;241m=\u001B[39muse_na_sentinel,\n\u001B[1;32m    798\u001B[0m         size_hint\u001B[38;5;241m=\u001B[39msize_hint,\n\u001B[1;32m    799\u001B[0m     )\n\u001B[1;32m    801\u001B[0m \u001B[38;5;28;01mif\u001B[39;00m sort \u001B[38;5;129;01mand\u001B[39;00m \u001B[38;5;28mlen\u001B[39m(uniques) \u001B[38;5;241m>\u001B[39m \u001B[38;5;241m0\u001B[39m:\n\u001B[1;32m    802\u001B[0m     uniques, codes \u001B[38;5;241m=\u001B[39m safe_sort(\n\u001B[1;32m    803\u001B[0m         uniques,\n\u001B[1;32m    804\u001B[0m         codes,\n\u001B[0;32m   (...)\u001B[0m\n\u001B[1;32m    807\u001B[0m         verify\u001B[38;5;241m=\u001B[39m\u001B[38;5;28;01mFalse\u001B[39;00m,\n\u001B[1;32m    808\u001B[0m     )\n",
      "File \u001B[0;32m~/anaconda3/lib/python3.11/site-packages/pandas/core/algorithms.py:595\u001B[0m, in \u001B[0;36mfactorize_array\u001B[0;34m(values, use_na_sentinel, size_hint, na_value, mask)\u001B[0m\n\u001B[1;32m    592\u001B[0m hash_klass, values \u001B[38;5;241m=\u001B[39m _get_hashtable_algo(values)\n\u001B[1;32m    594\u001B[0m table \u001B[38;5;241m=\u001B[39m hash_klass(size_hint \u001B[38;5;129;01mor\u001B[39;00m \u001B[38;5;28mlen\u001B[39m(values))\n\u001B[0;32m--> 595\u001B[0m uniques, codes \u001B[38;5;241m=\u001B[39m table\u001B[38;5;241m.\u001B[39mfactorize(\n\u001B[1;32m    596\u001B[0m     values,\n\u001B[1;32m    597\u001B[0m     na_sentinel\u001B[38;5;241m=\u001B[39m\u001B[38;5;241m-\u001B[39m\u001B[38;5;241m1\u001B[39m,\n\u001B[1;32m    598\u001B[0m     na_value\u001B[38;5;241m=\u001B[39mna_value,\n\u001B[1;32m    599\u001B[0m     mask\u001B[38;5;241m=\u001B[39mmask,\n\u001B[1;32m    600\u001B[0m     ignore_na\u001B[38;5;241m=\u001B[39muse_na_sentinel,\n\u001B[1;32m    601\u001B[0m )\n\u001B[1;32m    603\u001B[0m \u001B[38;5;66;03m# re-cast e.g. i8->dt64/td64, uint8->bool\u001B[39;00m\n\u001B[1;32m    604\u001B[0m uniques \u001B[38;5;241m=\u001B[39m _reconstruct_data(uniques, original\u001B[38;5;241m.\u001B[39mdtype, original)\n",
      "File \u001B[0;32mpandas/_libs/hashtable_class_helper.pxi:7280\u001B[0m, in \u001B[0;36mpandas._libs.hashtable.PyObjectHashTable.factorize\u001B[0;34m()\u001B[0m\n",
      "File \u001B[0;32mpandas/_libs/hashtable_class_helper.pxi:7194\u001B[0m, in \u001B[0;36mpandas._libs.hashtable.PyObjectHashTable._unique\u001B[0;34m()\u001B[0m\n",
      "\u001B[0;31mTypeError\u001B[0m: unhashable type: 'list'"
     ]
    }
   ],
   "execution_count": 145
  },
  {
   "metadata": {},
   "cell_type": "code",
   "outputs": [],
   "execution_count": null,
   "source": "",
   "id": "7610fddbbd1db13a"
  },
  {
   "metadata": {},
   "cell_type": "code",
   "outputs": [],
   "execution_count": null,
   "source": "",
   "id": "9ed39d948d153d95"
  },
  {
   "metadata": {},
   "cell_type": "markdown",
   "source": "## Text Processing on Description",
   "id": "6a8bb3b1948a3cba"
  },
  {
   "metadata": {
    "ExecuteTime": {
     "end_time": "2024-09-24T14:47:08.684281Z",
     "start_time": "2024-09-24T14:47:03.901603Z"
    }
   },
   "cell_type": "code",
   "source": [
    "import nltk\n",
    "from nltk.tokenize import word_tokenize\n",
    "\n",
    "# Ensure stopwords are downloaded\n",
    "nltk.download('stopwords')\n",
    "nltk.download('punkt')\n",
    "\n",
    "# Tokenization function\n",
    "def tokenize_text(text):\n",
    "    return word_tokenize(text)\n",
    "\n",
    "# Assuming `data` is a pandas DataFrame\n",
    "mined_data = {'Tokens': [], 'listed_in': []}\n",
    "\n",
    "# Iterating over the DataFrame\n",
    "for index, row in data_exploded.iterrows():\n",
    "    # Tokenize the description\n",
    "    words = tokenize_text(row['description'])\n",
    "    \n",
    "    # lowercase \n",
    "    words = [word.lower() for word in words]\n",
    "    \n",
    "    # Stopword removal\n",
    "    stop_words = set(stopwords.words('english'))\n",
    "    words = [word for word in words if word not in stop_words]\n",
    "    \n",
    "    # remove punctuation\n",
    "    import re\n",
    "    words = [re.sub(r'\\W+', '', word) for word in words if word.isalpha()]\n",
    "    \n",
    "    # Store the tokens and corresponding genre\n",
    "    mined_data['Tokens'].append(words)\n",
    "    mined_data['listed_in'].append(row['listed_in'])\n",
    "\n",
    "# Create a DataFrame with the results\n",
    "df = pd.DataFrame(mined_data)\n",
    "\n",
    "# Display the DataFrame\n",
    "df\n"
   ],
   "id": "a118bf1e4fbf31a2",
   "outputs": [
    {
     "name": "stderr",
     "output_type": "stream",
     "text": [
      "[nltk_data] Downloading package stopwords to\n",
      "[nltk_data]     /Users/mahshid/nltk_data...\n",
      "[nltk_data]   Package stopwords is already up-to-date!\n",
      "[nltk_data] Downloading package punkt to /Users/mahshid/nltk_data...\n",
      "[nltk_data]   Package punkt is already up-to-date!\n"
     ]
    },
    {
     "data": {
      "text/plain": [
       "                                                  Tokens  \\\n",
       "0      [photo, shoot, ghana, american, model, slips, ...   \n",
       "1      [photo, shoot, ghana, american, model, slips, ...   \n",
       "2      [photo, shoot, ghana, american, model, slips, ...   \n",
       "3      [talented, batch, amateur, bakers, face, compe...   \n",
       "4      [talented, batch, amateur, bakers, face, compe...   \n",
       "...                                                  ...   \n",
       "11853  [dragged, civilian, life, former, superhero, m...   \n",
       "11854  [dragged, civilian, life, former, superhero, m...   \n",
       "11855  [scrappy, poor, boy, worms, way, tycoon, dysfu...   \n",
       "11856  [scrappy, poor, boy, worms, way, tycoon, dysfu...   \n",
       "11857  [scrappy, poor, boy, worms, way, tycoon, dysfu...   \n",
       "\n",
       "                      listed_in  \n",
       "0                        Dramas  \n",
       "1            Independent Movies  \n",
       "2          International Movies  \n",
       "3              British TV Shows  \n",
       "4                    Reality TV  \n",
       "...                         ...  \n",
       "11853  Children & Family Movies  \n",
       "11854                  Comedies  \n",
       "11855                    Dramas  \n",
       "11856      International Movies  \n",
       "11857          Music & Musicals  \n",
       "\n",
       "[11858 rows x 2 columns]"
      ],
      "text/html": [
       "<div>\n",
       "<style scoped>\n",
       "    .dataframe tbody tr th:only-of-type {\n",
       "        vertical-align: middle;\n",
       "    }\n",
       "\n",
       "    .dataframe tbody tr th {\n",
       "        vertical-align: top;\n",
       "    }\n",
       "\n",
       "    .dataframe thead th {\n",
       "        text-align: right;\n",
       "    }\n",
       "</style>\n",
       "<table border=\"1\" class=\"dataframe\">\n",
       "  <thead>\n",
       "    <tr style=\"text-align: right;\">\n",
       "      <th></th>\n",
       "      <th>Tokens</th>\n",
       "      <th>listed_in</th>\n",
       "    </tr>\n",
       "  </thead>\n",
       "  <tbody>\n",
       "    <tr>\n",
       "      <th>0</th>\n",
       "      <td>[photo, shoot, ghana, american, model, slips, ...</td>\n",
       "      <td>Dramas</td>\n",
       "    </tr>\n",
       "    <tr>\n",
       "      <th>1</th>\n",
       "      <td>[photo, shoot, ghana, american, model, slips, ...</td>\n",
       "      <td>Independent Movies</td>\n",
       "    </tr>\n",
       "    <tr>\n",
       "      <th>2</th>\n",
       "      <td>[photo, shoot, ghana, american, model, slips, ...</td>\n",
       "      <td>International Movies</td>\n",
       "    </tr>\n",
       "    <tr>\n",
       "      <th>3</th>\n",
       "      <td>[talented, batch, amateur, bakers, face, compe...</td>\n",
       "      <td>British TV Shows</td>\n",
       "    </tr>\n",
       "    <tr>\n",
       "      <th>4</th>\n",
       "      <td>[talented, batch, amateur, bakers, face, compe...</td>\n",
       "      <td>Reality TV</td>\n",
       "    </tr>\n",
       "    <tr>\n",
       "      <th>...</th>\n",
       "      <td>...</td>\n",
       "      <td>...</td>\n",
       "    </tr>\n",
       "    <tr>\n",
       "      <th>11853</th>\n",
       "      <td>[dragged, civilian, life, former, superhero, m...</td>\n",
       "      <td>Children &amp; Family Movies</td>\n",
       "    </tr>\n",
       "    <tr>\n",
       "      <th>11854</th>\n",
       "      <td>[dragged, civilian, life, former, superhero, m...</td>\n",
       "      <td>Comedies</td>\n",
       "    </tr>\n",
       "    <tr>\n",
       "      <th>11855</th>\n",
       "      <td>[scrappy, poor, boy, worms, way, tycoon, dysfu...</td>\n",
       "      <td>Dramas</td>\n",
       "    </tr>\n",
       "    <tr>\n",
       "      <th>11856</th>\n",
       "      <td>[scrappy, poor, boy, worms, way, tycoon, dysfu...</td>\n",
       "      <td>International Movies</td>\n",
       "    </tr>\n",
       "    <tr>\n",
       "      <th>11857</th>\n",
       "      <td>[scrappy, poor, boy, worms, way, tycoon, dysfu...</td>\n",
       "      <td>Music &amp; Musicals</td>\n",
       "    </tr>\n",
       "  </tbody>\n",
       "</table>\n",
       "<p>11858 rows × 2 columns</p>\n",
       "</div>"
      ]
     },
     "execution_count": 130,
     "metadata": {},
     "output_type": "execute_result"
    }
   ],
   "execution_count": 130
  },
  {
   "metadata": {
    "ExecuteTime": {
     "end_time": "2024-09-24T14:47:18.197952Z",
     "start_time": "2024-09-24T14:47:18.190302Z"
    }
   },
   "cell_type": "code",
   "source": "df['listed_in'].value_counts()",
   "id": "da6fd5876ec2643f",
   "outputs": [
    {
     "data": {
      "text/plain": [
       "listed_in\n",
       "International Movies            2369\n",
       "Dramas                          2293\n",
       "Comedies                        1553\n",
       "Action & Adventure               806\n",
       "Independent Movies               740\n",
       "Romantic Movies                  579\n",
       "Thrillers                        547\n",
       "Children & Family Movies         503\n",
       "Documentaries                    391\n",
       "Horror Movies                    336\n",
       "Stand-Up Comedy                  294\n",
       "Music & Musicals                 292\n",
       "Sci-Fi & Fantasy                 236\n",
       "Sports Movies                    156\n",
       "Classic Movies                   108\n",
       "International TV Shows            87\n",
       "LGBTQ Movies                      80\n",
       "Cult Movies                       69\n",
       "Anime Features                    61\n",
       "Faith & Spirituality              58\n",
       "TV Dramas                         52\n",
       "Crime TV Shows                    38\n",
       "TV Comedies                       30\n",
       "British TV Shows                  21\n",
       "Romantic TV Shows                 21\n",
       "Movies                            20\n",
       "Docuseries                        14\n",
       "TV Action & Adventure             13\n",
       "Kids' TV                          13\n",
       "Stand-Up Comedy & Talk Shows      11\n",
       "Korean TV Shows                   10\n",
       "Spanish-Language TV Shows         10\n",
       "Anime Series                      10\n",
       "TV Mysteries                       8\n",
       "TV Horror                          7\n",
       "TV Shows                           5\n",
       "TV Sci-Fi & Fantasy                4\n",
       "Reality TV                         3\n",
       "Teen TV Shows                      3\n",
       "Classic & Cult TV                  3\n",
       "TV Thrillers                       3\n",
       "Science & Nature TV                1\n",
       "Name: count, dtype: int64"
      ]
     },
     "execution_count": 132,
     "metadata": {},
     "output_type": "execute_result"
    }
   ],
   "execution_count": 132
  },
  {
   "metadata": {},
   "cell_type": "markdown",
   "source": "### Word Frequency",
   "id": "4ce1bcd5301f1340"
  },
  {
   "metadata": {
    "ExecuteTime": {
     "end_time": "2024-09-24T14:43:35.490911Z",
     "start_time": "2024-09-24T14:43:35.486009Z"
    }
   },
   "cell_type": "code",
   "source": [
    "# frequency of words in each genre\n",
    "\n",
    "def word_genre_freq(df):\n",
    "    genre_word_freq = {}\n",
    "\n",
    "    for index, row in df.iterrows():\n",
    "        genre = row['Genre']\n",
    "        tokens = row['Tokens']\n",
    "\n",
    "        if genre not in genre_word_freq:\n",
    "            genre_word_freq[genre] = Counter()\n",
    "\n",
    "        genre_word_freq[genre].update(tokens)\n",
    "    \n",
    "    return genre_word_freq\n"
   ],
   "id": "5a46275a0606c213",
   "outputs": [],
   "execution_count": 120
  },
  {
   "metadata": {
    "ExecuteTime": {
     "end_time": "2024-09-24T14:43:37.245505Z",
     "start_time": "2024-09-24T14:43:36.560127Z"
    }
   },
   "cell_type": "code",
   "source": "genre_word_freq = word_genre_freq(df)",
   "id": "59008c6ce59c6ea5",
   "outputs": [],
   "execution_count": 121
  },
  {
   "metadata": {
    "ExecuteTime": {
     "end_time": "2024-09-24T14:43:38.087719Z",
     "start_time": "2024-09-24T14:43:38.078309Z"
    }
   },
   "cell_type": "code",
   "source": "genre_word_freq['Dramas'].most_common(5)",
   "id": "9605abd6b36d87dd",
   "outputs": [
    {
     "data": {
      "text/plain": [
       "[('young', 335), ('life', 232), ('man', 228), ('family', 202), ('woman', 194)]"
      ]
     },
     "execution_count": 122,
     "metadata": {},
     "output_type": "execute_result"
    }
   ],
   "execution_count": 122
  },
  {
   "metadata": {
    "ExecuteTime": {
     "end_time": "2024-09-24T14:44:17.422437Z",
     "start_time": "2024-09-24T14:44:17.416015Z"
    }
   },
   "cell_type": "code",
   "source": "genre_word_freq['Action & Adventure'].most_common(10)",
   "id": "20a8b62389785a8e",
   "outputs": [
    {
     "data": {
      "text/plain": [
       "[('young', 71),\n",
       " ('must', 67),\n",
       " ('man', 63),\n",
       " ('two', 61),\n",
       " ('life', 48),\n",
       " ('mission', 47),\n",
       " ('agent', 46),\n",
       " ('group', 44),\n",
       " ('new', 42),\n",
       " ('world', 42)]"
      ]
     },
     "execution_count": 125,
     "metadata": {},
     "output_type": "execute_result"
    }
   ],
   "execution_count": 125
  },
  {
   "metadata": {},
   "cell_type": "markdown",
   "source": "### Word Cloud Visualization",
   "id": "9715e30991c202c1"
  },
  {
   "metadata": {
    "ExecuteTime": {
     "end_time": "2024-09-24T14:16:09.929961Z",
     "start_time": "2024-09-24T14:16:09.922700Z"
    }
   },
   "cell_type": "code",
   "source": [
    "from wordcloud import WordCloud\n",
    "import matplotlib.pyplot as plt\n",
    "\n",
    "def plot_word_cloud(genre_word_freq, genre):  \n",
    "    for genre, freq in genre_word_freq.items():\n",
    "        wordcloud = WordCloud(width = 800, height = 800, \n",
    "                        background_color ='white', \n",
    "                        stopwords = set(stopwords.words('english')), \n",
    "                        min_font_size = 10).generate_from_frequencies(freq)\n",
    "\n",
    "        plt.figure(figsize = (8, 8), facecolor = None) \n",
    "        plt.imshow(wordcloud) \n",
    "        plt.axis(\"off\") \n",
    "        plt.tight_layout(pad = 0) \n",
    "        plt.title(genre)\n",
    "        plt.show()"
   ],
   "id": "6b5b77ccc80f6bc4",
   "outputs": [],
   "execution_count": 85
  },
  {
   "metadata": {},
   "cell_type": "code",
   "source": "plot_word_cloud(genre_word_freq)",
   "id": "79c8d542033c69df",
   "outputs": [],
   "execution_count": null
  },
  {
   "metadata": {},
   "cell_type": "code",
   "outputs": [],
   "execution_count": null,
   "source": "",
   "id": "9bc482a757e87be"
  },
  {
   "metadata": {},
   "cell_type": "markdown",
   "source": "### Language Modeling",
   "id": "2213568f1ed5cf50"
  }
 ],
 "metadata": {
  "kernelspec": {
   "display_name": "Python 3",
   "language": "python",
   "name": "python3"
  },
  "language_info": {
   "codemirror_mode": {
    "name": "ipython",
    "version": 2
   },
   "file_extension": ".py",
   "mimetype": "text/x-python",
   "name": "python",
   "nbconvert_exporter": "python",
   "pygments_lexer": "ipython2",
   "version": "2.7.6"
  }
 },
 "nbformat": 4,
 "nbformat_minor": 5
}
